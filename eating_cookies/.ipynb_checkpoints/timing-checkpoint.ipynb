{
 "cells": [
  {
   "cell_type": "markdown",
   "metadata": {},
   "source": [
    "# Testing cached recursive vs naive recursive solution to eating cookies"
   ]
  },
  {
   "cell_type": "code",
   "execution_count": null,
   "metadata": {},
   "outputs": [],
   "source": [
    "cache = {}\n",
    "def cached_eating_cookies(n, count=0):\n",
    "  if n == 0:\n",
    "    return 1\n",
    "  elif n < 0:\n",
    "    return 0\n",
    "  elif n in cache.keys():\n",
    "    return cache[n]\n",
    "  elif n >= 1:\n",
    "    count += eating_cookies(n=n-1, count=count)\\\n",
    "            + eating_cookies(n=n-2, count=count)\\\n",
    "            + eating_cookies(n=n-3, count=count)\n",
    "    # print('n:{}, count:{}'.format(n, count))\n",
    "    cache[n] = count\n",
    "    # print(cache)\n",
    "  return count\n",
    "\n",
    "def eating_cookies(n, count=0):\n",
    "  if n == 0:\n",
    "    return 1\n",
    "  elif n < 0:\n",
    "    return 0\n",
    "  elif n >= 1:\n",
    "    count += eating_cookies(n=n-1, count=count)\\\n",
    "            + eating_cookies(n=n-2, count=count)\\\n",
    "            + eating_cookies(n=n-3, count=count)\n",
    "  return count"
   ]
  }
 ],
 "metadata": {
  "kernelspec": {
   "display_name": "Python 3",
   "language": "python",
   "name": "python3"
  },
  "language_info": {
   "codemirror_mode": {
    "name": "ipython",
    "version": 3
   },
   "file_extension": ".py",
   "mimetype": "text/x-python",
   "name": "python",
   "nbconvert_exporter": "python",
   "pygments_lexer": "ipython3",
   "version": "3.7.4"
  }
 },
 "nbformat": 4,
 "nbformat_minor": 4
}
